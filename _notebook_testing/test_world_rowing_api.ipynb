{
 "cells": [
  {
   "cell_type": "markdown",
   "id": "1e032f20",
   "metadata": {},
   "source": [
    "# Notes\n",
    "## base url \n",
    "##### https://world-rowing-api.soticcloud.net/stats/api/\n",
    "\n",
    "### Endpoints\n",
    "#### /race\n",
    "All data elements have the following fields\n",
    "{('Date', 'DateString', 'DisplayName', 'IsStarted', 'Progression', 'RaceNr', 'Rescheduled', 'RescheduledFrom', 'RscCode', 'eventId', 'genderId', 'id', 'racePhaseId', 'raceStatusId')}\n",
    "\n",
    "#### /event\n",
    "\n"
   ]
  },
  {
   "cell_type": "markdown",
   "id": "c9ee4ea7",
   "metadata": {},
   "source": [
    "# code"
   ]
  },
  {
   "cell_type": "code",
   "execution_count": 31,
   "id": "41e293d4",
   "metadata": {
    "ExecuteTime": {
     "end_time": "2022-11-03T11:13:56.574083Z",
     "start_time": "2022-11-03T11:13:56.567591Z"
    }
   },
   "outputs": [
    {
     "data": {
      "text/html": [
       "<style>.container { width:100% !important; }</style>"
      ],
      "text/plain": [
       "<IPython.core.display.HTML object>"
      ]
     },
     "metadata": {},
     "output_type": "display_data"
    }
   ],
   "source": [
    "from IPython.display import display, HTML\n",
    "display(HTML(\"<style>.container { width:100% !important; }</style>\"))"
   ]
  },
  {
   "cell_type": "code",
   "execution_count": 26,
   "id": "a818e063",
   "metadata": {
    "ExecuteTime": {
     "end_time": "2022-11-03T09:43:06.264473Z",
     "start_time": "2022-11-03T09:43:06.261629Z"
    }
   },
   "outputs": [],
   "source": [
    "import pandas as pd \n",
    "import numpy as np\n",
    "\n",
    "import datetime\n",
    "from collections.abc import Mapping\n",
    "import logging"
   ]
  },
  {
   "cell_type": "code",
   "execution_count": 17,
   "id": "fc5de197",
   "metadata": {
    "ExecuteTime": {
     "end_time": "2022-11-03T09:23:20.451215Z",
     "start_time": "2022-11-03T09:23:20.447763Z"
    }
   },
   "outputs": [],
   "source": [
    "#from js import XMLHttpRequest\n",
    "import requests\n",
    "import json\n",
    "from urllib import parse\n",
    "\n",
    "# after python 3.9, the built-in types for list, set, dict and tuple can be used declaratively \n",
    "from typing import List, Set, Dict, Tuple, Optional \n"
   ]
  },
  {
   "cell_type": "code",
   "execution_count": 28,
   "id": "68ae177a",
   "metadata": {
    "ExecuteTime": {
     "end_time": "2022-11-03T10:16:24.400172Z",
     "start_time": "2022-11-03T10:16:24.265120Z"
    }
   },
   "outputs": [
    {
     "name": "stdout",
     "output_type": "stream",
     "text": [
      "Python 3.10.0\r\n"
     ]
    }
   ],
   "source": [
    "!python --version"
   ]
  },
  {
   "cell_type": "code",
   "execution_count": 27,
   "id": "380d15aa",
   "metadata": {
    "ExecuteTime": {
     "end_time": "2022-11-03T10:07:35.567190Z",
     "start_time": "2022-11-03T10:07:35.562349Z"
    }
   },
   "outputs": [
    {
     "data": {
      "text/plain": [
       "True"
      ]
     },
     "execution_count": 27,
     "metadata": {},
     "output_type": "execute_result"
    }
   ],
   "source": [
    "l1 = [1,2]\n",
    "l2 = [1,2]\n",
    "l3 = [1,2, 3]\n",
    "\n",
    "set(l2).issubset(set(l1))"
   ]
  },
  {
   "cell_type": "code",
   "execution_count": 32,
   "id": "cfb43670",
   "metadata": {
    "ExecuteTime": {
     "end_time": "2022-11-03T11:14:46.006506Z",
     "start_time": "2022-11-03T11:14:45.999622Z"
    }
   },
   "outputs": [],
   "source": [
    "# HELPER FUNCTIONS FOR UTILS\n",
    "def _get_date_columns(str_list: list) -> list: \n",
    "    \"\"\"\n",
    "    return: list of columns that contain 'date' in their name\n",
    "    \"\"\"\n",
    "    lower = [s.lower() for s in str_list]\n",
    "    filtered = filter(lambda x: \"date\" in x, lower)\n",
    "    \n",
    "    if len(filtered) > 0: \n",
    "        #return {k: str_list[lower.index(k)] for k in filtered}\n",
    "        return [str_list[lower.index(k)] for k in filtered]\n",
    "    else: \n",
    "        #return {}\n",
    "        return []\n",
    "\n",
    "def _get_binary_columns(df: pd.DataFrame) -> list: \n",
    "    \"\"\"\n",
    "    return: list of columns with potentially binary data\n",
    "    \"\"\"\n",
    "    return df.loc[:, df.isin(0, 1, np.nan)].columns.to_list()\n",
    "\n",
    "def _alter_dataframe_column_types(df: pd.DataFrame, type_mapping: dict[str, str]) -> pd.DataFrame:\n",
    "    \"\"\"\n",
    "    return: DataFrame with altered types, according to `type_mapping`\n",
    "    \"\"\"\n",
    "    # switch/case would be the call here. That is only present in python >= 3.10\n",
    "    # TODO: adjust me if we use python >= 3.10\n",
    "    assert(set(type_mapping.keys()).issubset(set(df.columns.to_list())))\n",
    "    \n",
    "    \n",
    "    for k, v in type_mapping.items(): \n",
    "        if v == \"str\":\n",
    "            df[k] = df[k].astype(str)\n",
    "        elif v == \"int\":\n",
    "            df[k] = df[k].astype(int)\n",
    "        elif v == \"float\":\n",
    "            df[k] = df[k].astype(float)\n",
    "        elif v == \"bool\":\n",
    "            df[k] = df[k].astype(bool)\n",
    "        elif v == \"date\":\n",
    "            df[k] = pd.to_datetime(df[k])\n",
    "        else: \n",
    "            # log / error\n",
    "            print(\"PANIC!!!\")\n",
    "            \n",
    "    return df"
   ]
  },
  {
   "cell_type": "code",
   "execution_count": 34,
   "id": "257c71f7",
   "metadata": {
    "ExecuteTime": {
     "end_time": "2022-11-03T11:30:04.401930Z",
     "start_time": "2022-11-03T11:30:04.397589Z"
    }
   },
   "outputs": [
    {
     "data": {
      "text/plain": [
       "True"
      ]
     },
     "execution_count": 34,
     "metadata": {},
     "output_type": "execute_result"
    }
   ],
   "source": [
    "d1 = {1:1, 2:2}\n",
    "d2 = {2:2, 3:3}\n",
    "\n",
    "d1 | d2 == {1: 1, 2: 2, 3: 3}"
   ]
  },
  {
   "cell_type": "markdown",
   "id": "c8122121",
   "metadata": {},
   "source": [
    "# code scratches"
   ]
  },
  {
   "cell_type": "code",
   "execution_count": 49,
   "id": "1c259960",
   "metadata": {
    "ExecuteTime": {
     "end_time": "2022-11-03T16:32:01.457291Z",
     "start_time": "2022-11-03T16:32:01.384592Z"
    }
   },
   "outputs": [
    {
     "data": {
      "text/html": [
       "<div>\n",
       "<style scoped>\n",
       "    .dataframe tbody tr th:only-of-type {\n",
       "        vertical-align: middle;\n",
       "    }\n",
       "\n",
       "    .dataframe tbody tr th {\n",
       "        vertical-align: top;\n",
       "    }\n",
       "\n",
       "    .dataframe thead th {\n",
       "        text-align: right;\n",
       "    }\n",
       "</style>\n",
       "<table border=\"1\" class=\"dataframe\">\n",
       "  <thead>\n",
       "    <tr style=\"text-align: right;\">\n",
       "      <th></th>\n",
       "      <th>Date</th>\n",
       "      <th>DateString</th>\n",
       "      <th>DisplayName</th>\n",
       "      <th>IsStarted</th>\n",
       "      <th>Progression</th>\n",
       "      <th>RaceNr</th>\n",
       "      <th>Rescheduled</th>\n",
       "      <th>RescheduledFrom</th>\n",
       "      <th>RscCode</th>\n",
       "      <th>eventId</th>\n",
       "      <th>genderId</th>\n",
       "      <th>id</th>\n",
       "      <th>racePhaseId</th>\n",
       "      <th>raceStatusId</th>\n",
       "    </tr>\n",
       "  </thead>\n",
       "  <tbody>\n",
       "    <tr>\n",
       "      <th>0</th>\n",
       "      <td>2002-06-14 00:00:00</td>\n",
       "      <td>None</td>\n",
       "      <td>H2</td>\n",
       "      <td>None</td>\n",
       "      <td>None</td>\n",
       "      <td>14</td>\n",
       "      <td>0.0</td>\n",
       "      <td>None</td>\n",
       "      <td>ROWWSCULL2------------HEAT000200--</td>\n",
       "      <td>35787d65-1c05-40aa-b568-88f26ad84beb</td>\n",
       "      <td>dae73748-90c9-4a49-9d94-4d4810fa457e</td>\n",
       "      <td>00014c9d-f22b-4bb2-9e62-02ed5bde2c65</td>\n",
       "      <td>cd3d5ca1-5aed-4146-b39b-a192ae6533f1</td>\n",
       "      <td>182f6f15-8e78-41c3-95b3-8b006af2c6a1</td>\n",
       "    </tr>\n",
       "    <tr>\n",
       "      <th>1</th>\n",
       "      <td>2003-07-25 00:00:00</td>\n",
       "      <td>None</td>\n",
       "      <td>H2</td>\n",
       "      <td>None</td>\n",
       "      <td>None</td>\n",
       "      <td>6</td>\n",
       "      <td>0.0</td>\n",
       "      <td>None</td>\n",
       "      <td>ROWWSCULL1-LU23-------HEAT000200--</td>\n",
       "      <td>49564f91-d4a5-4a39-a31d-036a622e1f2d</td>\n",
       "      <td>dae73748-90c9-4a49-9d94-4d4810fa457e</td>\n",
       "      <td>00025d82-8f5c-47e7-b150-99877ed99fb4</td>\n",
       "      <td>cd3d5ca1-5aed-4146-b39b-a192ae6533f1</td>\n",
       "      <td>182f6f15-8e78-41c3-95b3-8b006af2c6a1</td>\n",
       "    </tr>\n",
       "    <tr>\n",
       "      <th>2</th>\n",
       "      <td>2013-08-28 14:40:00</td>\n",
       "      <td>None</td>\n",
       "      <td>FB</td>\n",
       "      <td>None</td>\n",
       "      <td>None</td>\n",
       "      <td>124</td>\n",
       "      <td>0.0</td>\n",
       "      <td>None</td>\n",
       "      <td>ROWXSCULL2--TA--------FNL-000200--</td>\n",
       "      <td>728997f3-df52-4dbd-9257-568a363cc2e3</td>\n",
       "      <td>1c403f88-2b4f-4c7e-82d9-21a4c25cc009</td>\n",
       "      <td>0004edaa-8b4a-441e-a29c-0ce18faf60d6</td>\n",
       "      <td>e0fc3320-cd66-43af-a5b5-97afd55b2971</td>\n",
       "      <td>182f6f15-8e78-41c3-95b3-8b006af2c6a1</td>\n",
       "    </tr>\n",
       "    <tr>\n",
       "      <th>3</th>\n",
       "      <td>2009-08-08 14:00:00</td>\n",
       "      <td>None</td>\n",
       "      <td>FA</td>\n",
       "      <td>None</td>\n",
       "      <td>None</td>\n",
       "      <td>186</td>\n",
       "      <td>0.0</td>\n",
       "      <td>None</td>\n",
       "      <td>ROWMSCULL2--J---------FNL-000100--</td>\n",
       "      <td>708c21e2-4330-4440-ae44-8582892b0031</td>\n",
       "      <td>5beae5a3-10e4-4d33-96e5-c1a9f612dd54</td>\n",
       "      <td>0006f523-1f10-48cc-af84-1887f29dde19</td>\n",
       "      <td>e0fc3320-cd66-43af-a5b5-97afd55b2971</td>\n",
       "      <td>182f6f15-8e78-41c3-95b3-8b006af2c6a1</td>\n",
       "    </tr>\n",
       "    <tr>\n",
       "      <th>4</th>\n",
       "      <td>2006-07-08 18:46:00</td>\n",
       "      <td>None</td>\n",
       "      <td>FB</td>\n",
       "      <td>None</td>\n",
       "      <td>None</td>\n",
       "      <td>123</td>\n",
       "      <td>0.0</td>\n",
       "      <td>None</td>\n",
       "      <td>ROWMSCULL1-L----------FNL-000200--</td>\n",
       "      <td>445ab098-a2d3-467a-9218-36b62c503e16</td>\n",
       "      <td>5beae5a3-10e4-4d33-96e5-c1a9f612dd54</td>\n",
       "      <td>00073646-8dfd-41b5-8e36-7fe040e2f253</td>\n",
       "      <td>e0fc3320-cd66-43af-a5b5-97afd55b2971</td>\n",
       "      <td>182f6f15-8e78-41c3-95b3-8b006af2c6a1</td>\n",
       "    </tr>\n",
       "    <tr>\n",
       "      <th>...</th>\n",
       "      <td>...</td>\n",
       "      <td>...</td>\n",
       "      <td>...</td>\n",
       "      <td>...</td>\n",
       "      <td>...</td>\n",
       "      <td>...</td>\n",
       "      <td>...</td>\n",
       "      <td>...</td>\n",
       "      <td>...</td>\n",
       "      <td>...</td>\n",
       "      <td>...</td>\n",
       "      <td>...</td>\n",
       "      <td>...</td>\n",
       "      <td>...</td>\n",
       "    </tr>\n",
       "    <tr>\n",
       "      <th>995</th>\n",
       "      <td>2016-08-09 12:00:00</td>\n",
       "      <td>None</td>\n",
       "      <td>R1</td>\n",
       "      <td>None</td>\n",
       "      <td>1-3-&gt;SA/B</td>\n",
       "      <td>64</td>\n",
       "      <td>0.0</td>\n",
       "      <td>None</td>\n",
       "      <td>ROWMNOCOX4------------REP-000100--</td>\n",
       "      <td>08da2c72-33f3-4602-8fe1-b57e31494027</td>\n",
       "      <td>5beae5a3-10e4-4d33-96e5-c1a9f612dd54</td>\n",
       "      <td>0942444d-f07f-4192-8365-cff8b81e7fe2</td>\n",
       "      <td>0959f5e8-f85a-40fb-93ab-b6c477f6aade</td>\n",
       "      <td>182f6f15-8e78-41c3-95b3-8b006af2c6a1</td>\n",
       "    </tr>\n",
       "    <tr>\n",
       "      <th>996</th>\n",
       "      <td>2006-07-20 09:55:00</td>\n",
       "      <td>None</td>\n",
       "      <td>H2</td>\n",
       "      <td>None</td>\n",
       "      <td>1-2-&gt;SA/B, 3..-&gt;R</td>\n",
       "      <td>6</td>\n",
       "      <td>0.0</td>\n",
       "      <td>None</td>\n",
       "      <td>ROWWSCULL1-LU23-------HEAT000200--</td>\n",
       "      <td>26627ba9-50f4-4f1a-9f1a-ea768b123e63</td>\n",
       "      <td>dae73748-90c9-4a49-9d94-4d4810fa457e</td>\n",
       "      <td>09441744-b09b-4c92-9151-058b13f76cea</td>\n",
       "      <td>cd3d5ca1-5aed-4146-b39b-a192ae6533f1</td>\n",
       "      <td>182f6f15-8e78-41c3-95b3-8b006af2c6a1</td>\n",
       "    </tr>\n",
       "    <tr>\n",
       "      <th>997</th>\n",
       "      <td>2003-07-26 00:00:00</td>\n",
       "      <td>None</td>\n",
       "      <td>R1</td>\n",
       "      <td>None</td>\n",
       "      <td>None</td>\n",
       "      <td>58</td>\n",
       "      <td>0.0</td>\n",
       "      <td>None</td>\n",
       "      <td>ROWMSCULL1--U23-------REP-005100--</td>\n",
       "      <td>a2987f9c-9c95-4d25-90b0-23ccb4e8dca9</td>\n",
       "      <td>5beae5a3-10e4-4d33-96e5-c1a9f612dd54</td>\n",
       "      <td>09443294-0cd4-422e-af94-182fb5dd370f</td>\n",
       "      <td>0959f5e8-f85a-40fb-93ab-b6c477f6aade</td>\n",
       "      <td>182f6f15-8e78-41c3-95b3-8b006af2c6a1</td>\n",
       "    </tr>\n",
       "    <tr>\n",
       "      <th>998</th>\n",
       "      <td>2011-08-28 10:30:00</td>\n",
       "      <td>None</td>\n",
       "      <td>H4</td>\n",
       "      <td>None</td>\n",
       "      <td>1-&gt;SA/B, 2..-&gt;R</td>\n",
       "      <td>11</td>\n",
       "      <td>0.0</td>\n",
       "      <td>None</td>\n",
       "      <td>ROWMNOCOX4-L----------HEAT000400--</td>\n",
       "      <td>c4c5233f-1900-429c-a9a1-81e32209a5e5</td>\n",
       "      <td>5beae5a3-10e4-4d33-96e5-c1a9f612dd54</td>\n",
       "      <td>094c820c-6698-4b5c-a3e3-0d824dcb1ee6</td>\n",
       "      <td>cd3d5ca1-5aed-4146-b39b-a192ae6533f1</td>\n",
       "      <td>182f6f15-8e78-41c3-95b3-8b006af2c6a1</td>\n",
       "    </tr>\n",
       "    <tr>\n",
       "      <th>999</th>\n",
       "      <td>2014-05-31 10:17:00</td>\n",
       "      <td>None</td>\n",
       "      <td>SA/B 2</td>\n",
       "      <td>None</td>\n",
       "      <td>1-3-&gt;FA, 4..-&gt;FB</td>\n",
       "      <td>80</td>\n",
       "      <td>0.0</td>\n",
       "      <td>None</td>\n",
       "      <td>ROWMSCULL1-L----------SFNL000200--</td>\n",
       "      <td>9459214c-57c1-4b46-adad-15eea6dadfba</td>\n",
       "      <td>5beae5a3-10e4-4d33-96e5-c1a9f612dd54</td>\n",
       "      <td>094cda14-6829-4678-896d-6178174b52ab</td>\n",
       "      <td>e6693585-d2cf-464c-9f8e-b2e531b26400</td>\n",
       "      <td>182f6f15-8e78-41c3-95b3-8b006af2c6a1</td>\n",
       "    </tr>\n",
       "  </tbody>\n",
       "</table>\n",
       "<p>1000 rows × 14 columns</p>\n",
       "</div>"
      ],
      "text/plain": [
       "                    Date DateString DisplayName IsStarted        Progression  \\\n",
       "0    2002-06-14 00:00:00       None          H2      None               None   \n",
       "1    2003-07-25 00:00:00       None          H2      None               None   \n",
       "2    2013-08-28 14:40:00       None          FB      None               None   \n",
       "3    2009-08-08 14:00:00       None          FA      None               None   \n",
       "4    2006-07-08 18:46:00       None          FB      None               None   \n",
       "..                   ...        ...         ...       ...                ...   \n",
       "995  2016-08-09 12:00:00       None          R1      None          1-3->SA/B   \n",
       "996  2006-07-20 09:55:00       None          H2      None  1-2->SA/B, 3..->R   \n",
       "997  2003-07-26 00:00:00       None          R1      None               None   \n",
       "998  2011-08-28 10:30:00       None          H4      None    1->SA/B, 2..->R   \n",
       "999  2014-05-31 10:17:00       None      SA/B 2      None   1-3->FA, 4..->FB   \n",
       "\n",
       "    RaceNr  Rescheduled RescheduledFrom                             RscCode  \\\n",
       "0       14          0.0            None  ROWWSCULL2------------HEAT000200--   \n",
       "1        6          0.0            None  ROWWSCULL1-LU23-------HEAT000200--   \n",
       "2      124          0.0            None  ROWXSCULL2--TA--------FNL-000200--   \n",
       "3      186          0.0            None  ROWMSCULL2--J---------FNL-000100--   \n",
       "4      123          0.0            None  ROWMSCULL1-L----------FNL-000200--   \n",
       "..     ...          ...             ...                                 ...   \n",
       "995     64          0.0            None  ROWMNOCOX4------------REP-000100--   \n",
       "996      6          0.0            None  ROWWSCULL1-LU23-------HEAT000200--   \n",
       "997     58          0.0            None  ROWMSCULL1--U23-------REP-005100--   \n",
       "998     11          0.0            None  ROWMNOCOX4-L----------HEAT000400--   \n",
       "999     80          0.0            None  ROWMSCULL1-L----------SFNL000200--   \n",
       "\n",
       "                                  eventId  \\\n",
       "0    35787d65-1c05-40aa-b568-88f26ad84beb   \n",
       "1    49564f91-d4a5-4a39-a31d-036a622e1f2d   \n",
       "2    728997f3-df52-4dbd-9257-568a363cc2e3   \n",
       "3    708c21e2-4330-4440-ae44-8582892b0031   \n",
       "4    445ab098-a2d3-467a-9218-36b62c503e16   \n",
       "..                                    ...   \n",
       "995  08da2c72-33f3-4602-8fe1-b57e31494027   \n",
       "996  26627ba9-50f4-4f1a-9f1a-ea768b123e63   \n",
       "997  a2987f9c-9c95-4d25-90b0-23ccb4e8dca9   \n",
       "998  c4c5233f-1900-429c-a9a1-81e32209a5e5   \n",
       "999  9459214c-57c1-4b46-adad-15eea6dadfba   \n",
       "\n",
       "                                 genderId  \\\n",
       "0    dae73748-90c9-4a49-9d94-4d4810fa457e   \n",
       "1    dae73748-90c9-4a49-9d94-4d4810fa457e   \n",
       "2    1c403f88-2b4f-4c7e-82d9-21a4c25cc009   \n",
       "3    5beae5a3-10e4-4d33-96e5-c1a9f612dd54   \n",
       "4    5beae5a3-10e4-4d33-96e5-c1a9f612dd54   \n",
       "..                                    ...   \n",
       "995  5beae5a3-10e4-4d33-96e5-c1a9f612dd54   \n",
       "996  dae73748-90c9-4a49-9d94-4d4810fa457e   \n",
       "997  5beae5a3-10e4-4d33-96e5-c1a9f612dd54   \n",
       "998  5beae5a3-10e4-4d33-96e5-c1a9f612dd54   \n",
       "999  5beae5a3-10e4-4d33-96e5-c1a9f612dd54   \n",
       "\n",
       "                                       id  \\\n",
       "0    00014c9d-f22b-4bb2-9e62-02ed5bde2c65   \n",
       "1    00025d82-8f5c-47e7-b150-99877ed99fb4   \n",
       "2    0004edaa-8b4a-441e-a29c-0ce18faf60d6   \n",
       "3    0006f523-1f10-48cc-af84-1887f29dde19   \n",
       "4    00073646-8dfd-41b5-8e36-7fe040e2f253   \n",
       "..                                    ...   \n",
       "995  0942444d-f07f-4192-8365-cff8b81e7fe2   \n",
       "996  09441744-b09b-4c92-9151-058b13f76cea   \n",
       "997  09443294-0cd4-422e-af94-182fb5dd370f   \n",
       "998  094c820c-6698-4b5c-a3e3-0d824dcb1ee6   \n",
       "999  094cda14-6829-4678-896d-6178174b52ab   \n",
       "\n",
       "                              racePhaseId  \\\n",
       "0    cd3d5ca1-5aed-4146-b39b-a192ae6533f1   \n",
       "1    cd3d5ca1-5aed-4146-b39b-a192ae6533f1   \n",
       "2    e0fc3320-cd66-43af-a5b5-97afd55b2971   \n",
       "3    e0fc3320-cd66-43af-a5b5-97afd55b2971   \n",
       "4    e0fc3320-cd66-43af-a5b5-97afd55b2971   \n",
       "..                                    ...   \n",
       "995  0959f5e8-f85a-40fb-93ab-b6c477f6aade   \n",
       "996  cd3d5ca1-5aed-4146-b39b-a192ae6533f1   \n",
       "997  0959f5e8-f85a-40fb-93ab-b6c477f6aade   \n",
       "998  cd3d5ca1-5aed-4146-b39b-a192ae6533f1   \n",
       "999  e6693585-d2cf-464c-9f8e-b2e531b26400   \n",
       "\n",
       "                             raceStatusId  \n",
       "0    182f6f15-8e78-41c3-95b3-8b006af2c6a1  \n",
       "1    182f6f15-8e78-41c3-95b3-8b006af2c6a1  \n",
       "2    182f6f15-8e78-41c3-95b3-8b006af2c6a1  \n",
       "3    182f6f15-8e78-41c3-95b3-8b006af2c6a1  \n",
       "4    182f6f15-8e78-41c3-95b3-8b006af2c6a1  \n",
       "..                                    ...  \n",
       "995  182f6f15-8e78-41c3-95b3-8b006af2c6a1  \n",
       "996  182f6f15-8e78-41c3-95b3-8b006af2c6a1  \n",
       "997  182f6f15-8e78-41c3-95b3-8b006af2c6a1  \n",
       "998  182f6f15-8e78-41c3-95b3-8b006af2c6a1  \n",
       "999  182f6f15-8e78-41c3-95b3-8b006af2c6a1  \n",
       "\n",
       "[1000 rows x 14 columns]"
      ]
     },
     "execution_count": 49,
     "metadata": {},
     "output_type": "execute_result"
    }
   ],
   "source": [
    "race = get_races()\n",
    "race"
   ]
  },
  {
   "cell_type": "code",
   "execution_count": 38,
   "id": "b16455c2",
   "metadata": {
    "ExecuteTime": {
     "end_time": "2022-11-03T11:42:01.326535Z",
     "start_time": "2022-11-03T11:42:01.317792Z"
    }
   },
   "outputs": [],
   "source": [
    "# CONSTANTS\n",
    "WR_BASE_URL = \"https://world-rowing-api.soticcloud.net/stats/api/\"\n",
    "# ENDPOINTS FOR THE BASE-URL\n",
    "WR_ENDPOINT_RACE = \"race/\"\n",
    "WR_ENDPOINT_EVENT = \"event/\"\n",
    "WR_ENDPOINT_COMPETITION = \"competition/\"\n",
    "\n",
    "\n",
    "\n",
    "def load_json(url: str, params=None, timeout=20., **kwargs):\n",
    "    r = requests.get(url, params=params, timeout=timeout, **kwargs)\n",
    "    r.raise_for_status()\n",
    "    if r.text:\n",
    "        return r.json()\n",
    "    else:\n",
    "        return {}\n",
    "\n",
    "def pre_process_dataframe(df: pd.DataFrame) -> pd.DataFrame: \n",
    "    \"\"\"\n",
    "    Identifies date- and binary-columns and transforms their types.\n",
    "    \n",
    "    FYI: since python >= 3.9, one can merge dict's the following way: \n",
    "        d1 = {1:1, 2:2}\n",
    "        d2 = {2:2, 3:3}\n",
    "        d1 | d2 == {1: 1, 2: 2, 3: 3}\n",
    "    \"\"\"\n",
    "    date_cols = _get_date_columns(df.columns.to_list())\n",
    "    binary_cols = _get_binary_columns(df)\n",
    "    \n",
    "    date_cols = {k: \"date\" for k in date_cols}\n",
    "    binary_cols = {k: \"bool\" for k in binary_cols}\n",
    "    \n",
    "    _dict = date_cols | binary_cols\n",
    "    \n",
    "    df = _alter_dataframe_column_types(df, _dict)\n",
    "    \n",
    "    return df \n",
    "    \n",
    "    \n",
    "    \n",
    "def get_dataframe_from_dict(dictionary: dict) -> pd.DataFrame: \n",
    "    assert(\"data\" in dictionary.keys())\n",
    "    return pd.DataFrame.from_dict(dictionary['data'])\n",
    "\n",
    "\n",
    "def get_competitions(year: int = None, kind: str = None): \n",
    "    _json_dict = load_json(url=f'{WR_BASE_URL}{WR_ENDPOINT_COMPETITION}')\n",
    "    df = get_dataframe_from_dict(_json_dict)\n",
    "    \n",
    "    if year: \n",
    "        # if the date column is known, one can filter for it\n",
    "        # df = df[df['date'].year == year]\n",
    "        return df\n",
    "    else: \n",
    "        return df\n",
    "    \n",
    "def get_races(year: int = None, kind: str = None): \n",
    "    _json_dict = load_json(url=f'{WR_BASE_URL}{WR_ENDPOINT_RACE}')\n",
    "    df = get_dataframe_from_dict(_json_dict)\n",
    "    \n",
    "    if year: \n",
    "        # if the date column is known, one can filter for it\n",
    "        # df = df[df['date'].year == year]\n",
    "        return df\n",
    "    else: \n",
    "        return df\n",
    "    \n",
    "def get_events(year: int = None, kind: str = None): \n",
    "    _json_dict = load_json(url=f'{WR_BASE_URL}{WR_ENDPOINT_EVENT}')\n",
    "    df = get_dataframe_from_dict(_json_dict)\n",
    "    \n",
    "    if year: \n",
    "        # if the date column is known, one can filter for it\n",
    "        # df = df[df['date'].year == year]\n",
    "        return df\n",
    "    else: \n",
    "        return df\n",
    "    \n",
    "    \n",
    "    "
   ]
  },
  {
   "cell_type": "markdown",
   "id": "dfef7d2a",
   "metadata": {},
   "source": [
    "# testing \n"
   ]
  },
  {
   "cell_type": "code",
   "execution_count": 4,
   "id": "2d7ee7db",
   "metadata": {
    "ExecuteTime": {
     "end_time": "2022-11-02T18:37:49.902491Z",
     "start_time": "2022-11-02T18:37:49.520647Z"
    }
   },
   "outputs": [
    {
     "name": "stdout",
     "output_type": "stream",
     "text": [
      "dict_keys(['data', 'meta'])\n",
      "{('Date', 'DateString', 'DisplayName', 'IsStarted', 'Progression', 'RaceNr', 'Rescheduled', 'RescheduledFrom', 'RscCode', 'eventId', 'genderId', 'id', 'racePhaseId', 'raceStatusId')}\n"
     ]
    }
   ],
   "source": [
    "race = load_json(url='https://world-rowing-api.soticcloud.net/stats/api/race')\n",
    "print(race.keys())\n",
    "d = race['data']\n",
    "data_keys = [tuple(el.keys()) for el in d]\n",
    "print(set(data_keys))"
   ]
  },
  {
   "cell_type": "code",
   "execution_count": 5,
   "id": "331249df",
   "metadata": {
    "ExecuteTime": {
     "end_time": "2022-11-02T18:37:50.233101Z",
     "start_time": "2022-11-02T18:37:49.904723Z"
    }
   },
   "outputs": [
    {
     "name": "stdout",
     "output_type": "stream",
     "text": [
      "dict_keys(['data', 'meta'])\n",
      "{('DisplayName', 'RscCode', 'boatClassId', 'competitionId', 'competitionTypeId', 'id')}\n"
     ]
    }
   ],
   "source": [
    "event = load_json(url='https://world-rowing-api.soticcloud.net/stats/api/event')\n",
    "print(event.keys())\n",
    "d = event['data']\n",
    "data_keys = [tuple(el.keys()) for el in d]\n",
    "print(set(data_keys))"
   ]
  },
  {
   "cell_type": "code",
   "execution_count": 8,
   "id": "c6c5a7de",
   "metadata": {
    "ExecuteTime": {
     "end_time": "2022-11-03T09:05:53.805891Z",
     "start_time": "2022-11-03T09:05:53.424063Z"
    }
   },
   "outputs": [
    {
     "name": "stdout",
     "output_type": "stream",
     "text": [
      "dict_keys(['data', 'meta'])\n",
      "{('CompetitionCode', 'DisplayName', 'EndDate', 'EntryDeadlineDate', 'HasResults', 'IsFisa', 'StartDate', 'Year', 'competitionTypeId', 'id', 'venueId')}\n"
     ]
    }
   ],
   "source": [
    "competition = load_json(url='https://world-rowing-api.soticcloud.net/stats/api/competition')\n",
    "print(competition.keys())\n",
    "d = competition['data']\n",
    "data_keys = [tuple(el.keys()) for el in d]\n",
    "print(set(data_keys))"
   ]
  },
  {
   "cell_type": "code",
   "execution_count": null,
   "id": "ea0119cd",
   "metadata": {},
   "outputs": [],
   "source": []
  }
 ],
 "metadata": {
  "kernelspec": {
   "display_name": "Python 3 (ipykernel)",
   "language": "python",
   "name": "python3"
  },
  "language_info": {
   "codemirror_mode": {
    "name": "ipython",
    "version": 3
   },
   "file_extension": ".py",
   "mimetype": "text/x-python",
   "name": "python",
   "nbconvert_exporter": "python",
   "pygments_lexer": "ipython3",
   "version": "3.10.0"
  },
  "toc": {
   "base_numbering": 1,
   "nav_menu": {},
   "number_sections": true,
   "sideBar": true,
   "skip_h1_title": false,
   "title_cell": "Table of Contents",
   "title_sidebar": "Contents",
   "toc_cell": false,
   "toc_position": {},
   "toc_section_display": true,
   "toc_window_display": false
  }
 },
 "nbformat": 4,
 "nbformat_minor": 5
}
