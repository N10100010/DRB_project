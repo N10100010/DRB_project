{
 "cells": [
  {
   "cell_type": "markdown",
   "metadata": {},
   "source": [
    "# Notes\n",
    "## base url \n",
    "##### https://world-rowing-api.soticcloud.net/stats/api/\n",
    "\n",
    "### Endpoints\n",
    "#### /race\n",
    "All data elements have the following fields\n",
    "{('Date', 'DateString', 'DisplayName', 'IsStarted', 'Progression', 'RaceNr', 'Rescheduled', 'RescheduledFrom', 'RscCode', 'eventId', 'genderId', 'id', 'racePhaseId', 'raceStatusId')}\n",
    "\n",
    "#### /event\n",
    "\n"
   ]
  },
  {
   "cell_type": "markdown",
   "metadata": {},
   "source": [
    "# code"
   ]
  },
  {
   "cell_type": "code",
   "execution_count": 1,
   "metadata": {
    "ExecuteTime": {
     "end_time": "2022-11-17T13:50:32.076913Z",
     "start_time": "2022-11-17T13:50:32.067645Z"
    }
   },
   "outputs": [],
   "source": [
    "from IPython.display import display, HTML\n",
    "display(HTML(\"<style>.container { width:100% !important; }</style>\"))"
   ]
  },
  {
   "cell_type": "code",
   "execution_count": 2,
   "metadata": {
    "ExecuteTime": {
     "end_time": "2022-11-17T13:50:32.181023Z",
     "start_time": "2022-11-17T13:50:32.079608Z"
    }
   },
   "outputs": [
    {
     "ename": "ModuleNotFoundError",
     "evalue": "No module named 'pandas'",
     "output_type": "error",
     "traceback": [
      "\u001b[0;31m---------------------------------------------------------------------------\u001b[0m",
      "\u001b[0;31mModuleNotFoundError\u001b[0m                       Traceback (most recent call last)",
      "\u001b[0;32m<ipython-input-2-eae0926ec129>\u001b[0m in \u001b[0;36m<module>\u001b[0;34m\u001b[0m\n\u001b[0;32m----> 1\u001b[0;31m \u001b[0;32mimport\u001b[0m \u001b[0mpandas\u001b[0m \u001b[0;32mas\u001b[0m \u001b[0mpd\u001b[0m\u001b[0;34m\u001b[0m\u001b[0;34m\u001b[0m\u001b[0m\n\u001b[0m\u001b[1;32m      2\u001b[0m \u001b[0;32mimport\u001b[0m \u001b[0mnumpy\u001b[0m \u001b[0;32mas\u001b[0m \u001b[0mnp\u001b[0m\u001b[0;34m\u001b[0m\u001b[0;34m\u001b[0m\u001b[0m\n\u001b[1;32m      3\u001b[0m \u001b[0;34m\u001b[0m\u001b[0m\n\u001b[1;32m      4\u001b[0m \u001b[0;32mimport\u001b[0m \u001b[0mdatetime\u001b[0m\u001b[0;34m\u001b[0m\u001b[0;34m\u001b[0m\u001b[0m\n\u001b[1;32m      5\u001b[0m \u001b[0;32mfrom\u001b[0m \u001b[0mcollections\u001b[0m\u001b[0;34m.\u001b[0m\u001b[0mabc\u001b[0m \u001b[0;32mimport\u001b[0m \u001b[0mMapping\u001b[0m\u001b[0;34m\u001b[0m\u001b[0;34m\u001b[0m\u001b[0m\n",
      "\u001b[0;31mModuleNotFoundError\u001b[0m: No module named 'pandas'"
     ]
    }
   ],
   "source": [
    "import pandas as pd \n",
    "import numpy as np\n",
    "\n",
    "import datetime\n",
    "from collections.abc import Mapping\n",
    "import logging"
   ]
  },
  {
   "cell_type": "code",
   "execution_count": null,
   "metadata": {
    "ExecuteTime": {
     "end_time": "2022-11-17T13:50:32.183770Z",
     "start_time": "2022-11-17T13:50:32.068Z"
    }
   },
   "outputs": [],
   "source": [
    "#from js import XMLHttpRequest\n",
    "import requests\n",
    "import json\n",
    "from urllib import parse\n",
    "\n",
    "# after python 3.9, the built-in types for list, set, dict and tuple can be used declaratively \n",
    "from typing import List, Set, Dict, Tuple, Optional \n"
   ]
  },
  {
   "cell_type": "code",
   "execution_count": null,
   "metadata": {
    "ExecuteTime": {
     "end_time": "2022-11-17T13:50:32.185606Z",
     "start_time": "2022-11-17T13:50:32.069Z"
    }
   },
   "outputs": [],
   "source": [
    "!python --version"
   ]
  },
  {
   "cell_type": "code",
   "execution_count": null,
   "metadata": {
    "ExecuteTime": {
     "end_time": "2022-11-17T13:50:32.187007Z",
     "start_time": "2022-11-17T13:50:32.071Z"
    }
   },
   "outputs": [],
   "source": [
    "l1 = [1,2]\n",
    "l2 = [1,2]\n",
    "l3 = [1,2, 3]\n",
    "\n",
    "set(l2).issubset(set(l1))"
   ]
  },
  {
   "cell_type": "code",
   "execution_count": null,
   "metadata": {
    "ExecuteTime": {
     "end_time": "2022-11-17T13:50:32.188409Z",
     "start_time": "2022-11-17T13:50:32.072Z"
    }
   },
   "outputs": [],
   "source": [
    "# HELPER FUNCTIONS FOR UTILS\n",
    "def _get_date_columns(str_list: list) -> list: \n",
    "    \"\"\"\n",
    "    return: list of columns that contain 'date' in their name\n",
    "    \"\"\"\n",
    "    lower = [s.lower() for s in str_list]\n",
    "    filtered = filter(lambda x: \"date\" in x, lower)\n",
    "    \n",
    "    if len(filtered) > 0: \n",
    "        #return {k: str_list[lower.index(k)] for k in filtered}\n",
    "        return [str_list[lower.index(k)] for k in filtered]\n",
    "    else: \n",
    "        #return {}\n",
    "        return []\n",
    "\n",
    "def _get_binary_columns(df: pd.DataFrame) -> list: \n",
    "    \"\"\"\n",
    "    return: list of columns with potentially binary data\n",
    "    \"\"\"\n",
    "    return df.loc[:, df.isin(0, 1, np.nan)].columns.to_list()\n",
    "\n",
    "def _alter_dataframe_column_types(df: pd.DataFrame, type_mapping: dict[str, str]) -> pd.DataFrame:\n",
    "    \"\"\"\n",
    "    return: DataFrame with altered types, according to `type_mapping`\n",
    "    \"\"\"\n",
    "    # switch/case would be the call here. That is only present in python >= 3.10\n",
    "    # TODO: adjust me if we use python >= 3.10\n",
    "    assert(set(type_mapping.keys()).issubset(set(df.columns.to_list())))\n",
    "    \n",
    "    \n",
    "    for k, v in type_mapping.items(): \n",
    "        if v == \"str\":\n",
    "            df[k] = df[k].astype(str)\n",
    "        elif v == \"int\":\n",
    "            df[k] = df[k].astype(int)\n",
    "        elif v == \"float\":\n",
    "            df[k] = df[k].astype(float)\n",
    "        elif v == \"bool\":\n",
    "            df[k] = df[k].astype(bool)\n",
    "        elif v == \"date\":\n",
    "            df[k] = pd.to_datetime(df[k])\n",
    "        else: \n",
    "            # log / error\n",
    "            print(\"PANIC!!!\")\n",
    "            \n",
    "    return df"
   ]
  },
  {
   "cell_type": "code",
   "execution_count": null,
   "metadata": {
    "ExecuteTime": {
     "end_time": "2022-11-17T13:50:32.189739Z",
     "start_time": "2022-11-17T13:50:32.074Z"
    }
   },
   "outputs": [],
   "source": [
    "d1 = {1:1, 2:2}\n",
    "d2 = {2:2, 3:3}\n",
    "\n",
    "d1 | d2 == {1: 1, 2: 2, 3: 3}"
   ]
  },
  {
   "cell_type": "markdown",
   "metadata": {},
   "source": [
    "# code scratches"
   ]
  },
  {
   "cell_type": "code",
   "execution_count": null,
   "metadata": {
    "ExecuteTime": {
     "end_time": "2022-11-17T13:50:32.191126Z",
     "start_time": "2022-11-17T13:50:32.076Z"
    }
   },
   "outputs": [],
   "source": [
    "race = get_races()\n",
    "race"
   ]
  },
  {
   "cell_type": "code",
   "execution_count": null,
   "metadata": {
    "ExecuteTime": {
     "end_time": "2022-11-17T13:50:32.192344Z",
     "start_time": "2022-11-17T13:50:32.078Z"
    }
   },
   "outputs": [],
   "source": [
    "# CONSTANTS\n",
    "WR_BASE_URL = \"https://world-rowing-api.soticcloud.net/stats/api/\"\n",
    "# ENDPOINTS FOR THE BASE-URL\n",
    "WR_ENDPOINT_RACE = \"race/\"\n",
    "WR_ENDPOINT_EVENT = \"event/\"\n",
    "WR_ENDPOINT_COMPETITION = \"competition/\"\n",
    "\n",
    "\n",
    "\n",
    "def load_json(url: str, params=None, timeout=20., **kwargs):\n",
    "    r = requests.get(url, params=params, timeout=timeout, **kwargs)\n",
    "    r.raise_for_status()\n",
    "    if r.text:\n",
    "        return r.json()\n",
    "    else:\n",
    "        return {}\n",
    "\n",
    "def pre_process_dataframe(df: pd.DataFrame) -> pd.DataFrame: \n",
    "    \"\"\"\n",
    "    Identifies date- and binary-columns and transforms their types.\n",
    "    \n",
    "    FYI: since python >= 3.9, one can merge dict's the following way: \n",
    "        d1 = {1:1, 2:2}\n",
    "        d2 = {2:2, 3:3}\n",
    "        d1 | d2 == {1: 1, 2: 2, 3: 3}\n",
    "    \"\"\"\n",
    "    date_cols = _get_date_columns(df.columns.to_list())\n",
    "    binary_cols = _get_binary_columns(df)\n",
    "    \n",
    "    date_cols = {k: \"date\" for k in date_cols}\n",
    "    binary_cols = {k: \"bool\" for k in binary_cols}\n",
    "    \n",
    "    _dict = date_cols | binary_cols\n",
    "    \n",
    "    df = _alter_dataframe_column_types(df, _dict)\n",
    "    \n",
    "    return df \n",
    "    \n",
    "    \n",
    "    \n",
    "def get_dataframe_from_dict(dictionary: dict) -> pd.DataFrame: \n",
    "    assert(\"data\" in dictionary.keys())\n",
    "    return pd.DataFrame.from_dict(dictionary['data'])\n",
    "\n",
    "\n",
    "def get_competitions(year: int = None, kind: str = None): \n",
    "    _json_dict = load_json(url=f'{WR_BASE_URL}{WR_ENDPOINT_COMPETITION}')\n",
    "    df = get_dataframe_from_dict(_json_dict)\n",
    "    \n",
    "    if year: \n",
    "        # if the date column is known, one can filter for it\n",
    "        # df = df[df['date'].year == year]\n",
    "        return df\n",
    "    else: \n",
    "        return df\n",
    "    \n",
    "def get_races(year: int = None, kind: str = None): \n",
    "    _json_dict = load_json(url=f'{WR_BASE_URL}{WR_ENDPOINT_RACE}')\n",
    "    df = get_dataframe_from_dict(_json_dict)\n",
    "    \n",
    "    if year: \n",
    "        # if the date column is known, one can filter for it\n",
    "        # df = df[df['date'].year == year]\n",
    "        return df\n",
    "    else: \n",
    "        return df\n",
    "    \n",
    "def get_events(year: int = None, kind: str = None): \n",
    "    _json_dict = load_json(url=f'{WR_BASE_URL}{WR_ENDPOINT_EVENT}')\n",
    "    df = get_dataframe_from_dict(_json_dict)\n",
    "    \n",
    "    if year: \n",
    "        # if the date column is known, one can filter for it\n",
    "        # df = df[df['date'].year == year]\n",
    "        return df\n",
    "    else: \n",
    "        return df\n",
    "    \n",
    "    \n",
    "    "
   ]
  },
  {
   "cell_type": "markdown",
   "metadata": {},
   "source": [
    "# testing \n"
   ]
  },
  {
   "cell_type": "code",
   "execution_count": null,
   "metadata": {
    "ExecuteTime": {
     "end_time": "2022-11-17T13:50:32.193657Z",
     "start_time": "2022-11-17T13:50:32.082Z"
    }
   },
   "outputs": [],
   "source": [
    "race = load_json(url='https://world-rowing-api.soticcloud.net/stats/api/race')\n",
    "print(race.keys())\n",
    "d = race['data']\n",
    "data_keys = [tuple(el.keys()) for el in d]\n",
    "print(set(data_keys))"
   ]
  },
  {
   "cell_type": "code",
   "execution_count": null,
   "metadata": {
    "ExecuteTime": {
     "end_time": "2022-11-17T13:50:32.194973Z",
     "start_time": "2022-11-17T13:50:32.084Z"
    }
   },
   "outputs": [],
   "source": [
    "event = load_json(url='https://world-rowing-api.soticcloud.net/stats/api/event')\n",
    "print(event.keys())\n",
    "d = event['data']\n",
    "data_keys = [tuple(el.keys()) for el in d]\n",
    "print(set(data_keys))"
   ]
  },
  {
   "cell_type": "code",
   "execution_count": null,
   "metadata": {
    "ExecuteTime": {
     "end_time": "2022-11-17T13:50:32.196568Z",
     "start_time": "2022-11-17T13:50:32.085Z"
    }
   },
   "outputs": [],
   "source": [
    "competition = load_json(url='https://world-rowing-api.soticcloud.net/stats/api/competition')\n",
    "print(competition.keys())\n",
    "d = competition['data']\n",
    "data_keys = [tuple(el.keys()) for el in d]\n",
    "print(set(data_keys))"
   ]
  },
  {
   "cell_type": "code",
   "execution_count": null,
   "metadata": {},
   "outputs": [],
   "source": []
  }
 ],
 "metadata": {
  "kernelspec": {
   "display_name": "Python 3",
   "language": "python",
   "name": "python3"
  },
  "language_info": {
   "codemirror_mode": {
    "name": "ipython",
    "version": 3
   },
   "file_extension": ".py",
   "mimetype": "text/x-python",
   "name": "python",
   "nbconvert_exporter": "python",
   "pygments_lexer": "ipython3",
   "version": "3.7.1"
  },
  "toc": {
   "base_numbering": 1,
   "nav_menu": {},
   "number_sections": true,
   "sideBar": true,
   "skip_h1_title": false,
   "title_cell": "Table of Contents",
   "title_sidebar": "Contents",
   "toc_cell": false,
   "toc_position": {},
   "toc_section_display": true,
   "toc_window_display": false
  }
 },
 "nbformat": 4,
 "nbformat_minor": 5
}
